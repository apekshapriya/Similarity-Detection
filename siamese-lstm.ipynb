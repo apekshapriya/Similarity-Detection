{
 "cells": [
  {
   "cell_type": "markdown",
   "metadata": {
    "collapsed": true
   },
   "source": [
    "## import packages"
   ]
  },
  {
   "cell_type": "code",
   "execution_count": 1,
   "metadata": {
    "collapsed": true
   },
   "outputs": [],
   "source": [
    "import numpy as np\n",
    "import tensorflow as tf\n"
   ]
  },
  {
   "cell_type": "markdown",
   "metadata": {},
   "source": [
    "## importing data"
   ]
  },
  {
   "cell_type": "code",
   "execution_count": 2,
   "metadata": {
    "collapsed": true
   },
   "outputs": [],
   "source": [
    "train=np.load('train.npz')\n",
    "test=np.load('test.npz')\n",
    "val=np.load('valid.npz')\n"
   ]
  },
  {
   "cell_type": "code",
   "execution_count": 3,
   "metadata": {
    "collapsed": true
   },
   "outputs": [],
   "source": [
    "train_sentence1=train['ques1']\n",
    "train_sentence2=train['ques2']\n",
    "train_label=train['label']\n",
    "train_label=np.reshape(train_label,[-1,1])\n"
   ]
  },
  {
   "cell_type": "code",
   "execution_count": 4,
   "metadata": {
    "collapsed": true
   },
   "outputs": [],
   "source": [
    "test_sentence1=test['ques1']\n",
    "test_sentence2=test['ques2']\n",
    "test_label=test['label']\n",
    "test_label=np.reshape(test_label,[-1,1])"
   ]
  },
  {
   "cell_type": "code",
   "execution_count": 5,
   "metadata": {
    "collapsed": true
   },
   "outputs": [],
   "source": [
    "val_sentence1=val['ques1']\n",
    "val_sentence2=val['ques2']\n",
    "val_label=val['label']\n",
    "val_label=np.reshape(val_label,[-1,1])"
   ]
  },
  {
   "cell_type": "code",
   "execution_count": 6,
   "metadata": {},
   "outputs": [
    {
     "data": {
      "text/plain": [
       "(209991, 89895, 99)"
      ]
     },
     "execution_count": 6,
     "metadata": {},
     "output_type": "execute_result"
    }
   ],
   "source": [
    "len(train_label),len(test_label),len(val_label)"
   ]
  },
  {
   "cell_type": "markdown",
   "metadata": {},
   "source": [
    "## creating word embedding"
   ]
  },
  {
   "cell_type": "code",
   "execution_count": 7,
   "metadata": {
    "collapsed": true
   },
   "outputs": [],
   "source": [
    "vec=np.load('embed.npz')\n"
   ]
  },
  {
   "cell_type": "code",
   "execution_count": 8,
   "metadata": {
    "collapsed": true
   },
   "outputs": [],
   "source": [
    "vec_x=vec['embed']"
   ]
  },
  {
   "cell_type": "markdown",
   "metadata": {},
   "source": [
    "## initializing parameters"
   ]
  },
  {
   "cell_type": "code",
   "execution_count": 9,
   "metadata": {
    "collapsed": true
   },
   "outputs": [],
   "source": [
    "input_size=200\n",
    "hidden_layer=50\n",
    "train_size=100\n",
    "max_length=237\n",
    "valid_size=99\n",
    "test_size=100\n",
    "lr=0.0005"
   ]
  },
  {
   "cell_type": "code",
   "execution_count": 10,
   "metadata": {
    "collapsed": true
   },
   "outputs": [],
   "source": [
    "wi = tf.get_variable('weigths_in', shape=[input_size,hidden_layer],\n",
    "                initializer=tf.random_normal_initializer(0,0.25))\n",
    "wf = tf.get_variable('weigths_forget', shape=[input_size,hidden_layer],\n",
    "                initializer=tf.random_normal_initializer(0,0.25))\n",
    "wc = tf.get_variable('weigths_memory', shape=[input_size,hidden_layer],\n",
    "                initializer=tf.random_normal_initializer(0,0.25))\n",
    "wo = tf.get_variable('weigths_out', shape=[input_size,hidden_layer],\n",
    "                initializer=tf.random_normal_initializer(0,0.25))"
   ]
  },
  {
   "cell_type": "code",
   "execution_count": 11,
   "metadata": {
    "collapsed": true
   },
   "outputs": [],
   "source": [
    "ui = tf.get_variable('weigths_hidden_in', shape=[hidden_layer, hidden_layer],\n",
    "                initializer=tf.random_normal_initializer(0,0.25))\n",
    "uf = tf.get_variable('weigths_hidden_forget', shape=[hidden_layer, hidden_layer],\n",
    "                initializer=tf.random_normal_initializer(0,0.25))\n",
    "uc = tf.get_variable('weigths_hidden_memory', shape=[hidden_layer, hidden_layer],\n",
    "                initializer=tf.random_normal_initializer(0,0.25))\n",
    "uo = tf.get_variable('weigths_hidden_out', shape=[hidden_layer, hidden_layer],\n",
    "                initializer=tf.random_normal_initializer(0,0.25))"
   ]
  },
  {
   "cell_type": "markdown",
   "metadata": {},
   "source": [
    "## model to be trained"
   ]
  },
  {
   "cell_type": "code",
   "execution_count": 12,
   "metadata": {
    "collapsed": true
   },
   "outputs": [],
   "source": [
    "#siamese network\n",
    "def train():\n",
    "    \n",
    "    # variables\n",
    "    \n",
    "    loss_train,loss_val,iterr=[],[],[]\n",
    "    x1=tf.placeholder(shape=[None,max_length],dtype=tf.int32)\n",
    "    x2=tf.placeholder(shape=[None,max_length],dtype=tf.int32)\n",
    "    y=tf.placeholder(shape=[None,None],dtype=tf.float32)\n",
    "    \n",
    "    \n",
    "    hprev=tf.placeholder(shape=[None,hidden_layer],dtype=tf.float32)\n",
    "    cprev=tf.placeholder(shape=[None,hidden_layer],dtype=tf.float32)\n",
    "       \n",
    "    con=[hprev,cprev]\n",
    "    \n",
    "    #embedding lookup \n",
    "    X1_embed=tf.nn.embedding_lookup(vec_x,x1)\n",
    "    X2_embed=tf.nn.embedding_lookup(vec_x,x2)\n",
    "    X1_embed = tf.transpose(X1_embed, [1, 0, 2])\n",
    "    X2_embed = tf.transpose(X2_embed, [1, 0, 2])\n",
    "        \n",
    "    #lstm  cell\n",
    "    h1=tf.scan(LSTM,X1_embed,initializer=con)\n",
    "    h1=h1[0]\n",
    "    h2=tf.scan(LSTM,X2_embed,initializer=con)\n",
    "    h2=h2[0]\n",
    "    \n",
    "    #taking last hidden for each word of a sequence\n",
    "    h1_t=h1[-1]\n",
    "    h2_t=h2[-1]\n",
    "    \n",
    "    #distance between both sequence\n",
    "    preds_out=tf.abs(h1_t-h2_t)\n",
    "  \n",
    "    preds=tf.reduce_sum(preds_out,axis=1)\n",
    "    \n",
    "    preds=tf.nn.sigmoid(preds)\n",
    "   \n",
    "    preds=1-preds\n",
    "    \n",
    "    preds=tf.reshape(preds,[-1,1]) \n",
    "    y=tf.reshape(y,[-1,1]) \n",
    "    \n",
    "    #loss as mean square error\n",
    "    loss=tf.reduce_mean(tf.losses.mean_squared_error(predictions=preds,labels=y))\n",
    "    \n",
    "    #optimizer as AdamOptimizer\n",
    "    optimizer=tf.train.AdamOptimizer(0.0005).minimize(loss)\n",
    "       \n",
    "    \n",
    "    with tf.Session() as session:\n",
    "        \n",
    "        session.run(tf.global_variables_initializer())\n",
    "        session.run(tf.local_variables_initializer())\n",
    "        d=0    \n",
    "       \n",
    "        #stochastic gradient descent of mini batch of 100 at each iteration\n",
    "        for epoch in range(1801):\n",
    "                \n",
    "            train_x1,train_x2,train_y=get_batch(train_sentence1,train_sentence2, train_label, train_size, random=False,start=d,end=d+train_size)\n",
    "           \n",
    "            #feeding train set\n",
    "            l,o,w=session.run([loss,optimizer,wi],feed_dict={x1:train_x1,x2:train_x2,y:train_y,hprev:np.zeros((train_size,hidden_layer)),cprev:np.zeros((train_size,hidden_layer))})\n",
    "            \n",
    "            if epoch%100==0:\n",
    "                    iterr.append(epoch)\n",
    "                    print \"loss for iteration no:\",epoch\n",
    "                    print \"training set\",l\n",
    "                    loss_train.append(l)\n",
    "                   \n",
    "                    #feeding validation set\n",
    "                    l1=session.run([loss],feed_dict={x1:val_sentence1,x2:val_sentence2,y:val_label,hprev: np.zeros((valid_size, hidden_layer)),\n",
    "                cprev:np.zeros((valid_size,hidden_layer))})\n",
    "                    \n",
    "                    loss_val.append(l1)\n",
    "                    print \"validations set\",l1\n",
    "                    print \"\\n\"\n",
    "                        \n",
    "\n",
    "            d=d+train_size-1    \n",
    "            \n",
    "        print \"------Training over----\"\n",
    "        print\"\\n\"\n",
    "       \n",
    "    \n",
    "    \n",
    "        c=0\n",
    "        loss_test=[]\n",
    "        for j in range(800):\n",
    "            \n",
    "            \n",
    "            test_x1,test_x2,test_y=get_batch(test_sentence1,test_sentence2, test_label, train_size, random=False,start=c,end=c+train_size)\n",
    "           \n",
    "            #feeding test set\n",
    "            lt=session.run([loss],feed_dict={x1:test_x1,x2:test_x2,y:test_y,hprev:np.zeros((train_size,hidden_layer)),cprev:np.zeros((train_size,hidden_layer))})\n",
    "            c=c+train_size-1\n",
    "            loss_test.append(lt)\n",
    "            \n",
    "        print \"testing over\"\n",
    "        \n",
    "        return loss_test,loss_train,loss_val,iterr"
   ]
  },
  {
   "cell_type": "markdown",
   "metadata": {},
   "source": [
    "## using Long Short Term Memory cell"
   ]
  },
  {
   "cell_type": "code",
   "execution_count": 13,
   "metadata": {
    "collapsed": true
   },
   "outputs": [],
   "source": [
    "\n",
    "def LSTM(con,x_t):\n",
    "    \n",
    "    x_t=tf.reshape(x_t,[-1,input_size])\n",
    "    x_t=tf.cast(x_t,dtype=tf.float32)\n",
    "   \n",
    "    hprev = tf.reshape(con[0], [-1, hidden_layer])\n",
    "    cprev = tf.reshape(con[1], [-1, hidden_layer])\n",
    "    \n",
    "    i_t=tf.sigmoid(tf.matmul(x_t,wi) + tf.matmul(hprev,ui))\n",
    "    \n",
    "    f_t=tf.sigmoid(tf.matmul(x_t,wf) + tf.matmul(hprev,uf))\n",
    "    \n",
    "    c=tf.tanh(tf.matmul(x_t,wc) + tf.matmul(hprev,uc))\n",
    "    \n",
    "    c_t=tf.multiply(i_t,c)+tf.multiply(f_t,cprev)\n",
    "    \n",
    "    o_t=tf.sigmoid(tf.matmul(x_t,wo) +  tf.matmul(hprev,uo))\n",
    "    \n",
    "    h_t=tf.multiply(o_t,tf.tanh(c_t))\n",
    "   \n",
    "    return([h_t,c_t])"
   ]
  },
  {
   "cell_type": "markdown",
   "metadata": {},
   "source": [
    "## extracting batches of data"
   ]
  },
  {
   "cell_type": "code",
   "execution_count": 14,
   "metadata": {
    "collapsed": true
   },
   "outputs": [],
   "source": [
    "def get_batch(x11,x12, y1, train_size, random=False, start=0, end=0):\n",
    "    if random:\n",
    "        idx = np.random.choice(range(len(x11)), size=train_size, replace=False)\n",
    "    else:\n",
    "        idx = np.arange(start, end)\n",
    "    return x11[idx],x12[idx], y1[idx]"
   ]
  },
  {
   "cell_type": "markdown",
   "metadata": {},
   "source": [
    "## executing training"
   ]
  },
  {
   "cell_type": "code",
   "execution_count": 15,
   "metadata": {},
   "outputs": [
    {
     "name": "stdout",
     "output_type": "stream",
     "text": [
      "loss for iteration no: 0\n",
      "training set 0.25\n",
      "validations set [0.24999942]\n",
      "\n",
      "\n",
      "loss for iteration no: 100\n",
      "training set 0.222384\n",
      "validations set [0.23335259]\n",
      "\n",
      "\n",
      "loss for iteration no: 200\n",
      "training set 0.21204\n",
      "validations set [0.21794483]\n",
      "\n",
      "\n",
      "loss for iteration no: 300\n",
      "training set 0.236924\n",
      "validations set [0.22560434]\n",
      "\n",
      "\n",
      "loss for iteration no: 400\n",
      "training set 0.217261\n",
      "validations set [0.23057801]\n",
      "\n",
      "\n",
      "loss for iteration no: 500\n",
      "training set 0.220633\n",
      "validations set [0.21703728]\n",
      "\n",
      "\n",
      "loss for iteration no: 600\n",
      "training set 0.242947\n",
      "validations set [0.22723515]\n",
      "\n",
      "\n",
      "loss for iteration no: 700\n",
      "training set 0.196413\n",
      "validations set [0.21665776]\n",
      "\n",
      "\n",
      "loss for iteration no: 800\n",
      "training set 0.221824\n",
      "validations set [0.2164052]\n",
      "\n",
      "\n",
      "loss for iteration no: 900\n",
      "training set 0.237786\n",
      "validations set [0.21633676]\n",
      "\n",
      "\n",
      "loss for iteration no: 1000\n",
      "training set 0.227188\n",
      "validations set [0.25061986]\n",
      "\n",
      "\n",
      "loss for iteration no: 1100\n",
      "training set 0.193618\n",
      "validations set [0.21093272]\n",
      "\n",
      "\n",
      "loss for iteration no: 1200\n",
      "training set 0.212248\n",
      "validations set [0.21371515]\n",
      "\n",
      "\n",
      "loss for iteration no: 1300\n",
      "training set 0.251679\n",
      "validations set [0.23111269]\n",
      "\n",
      "\n",
      "loss for iteration no: 1400\n",
      "training set 0.253227\n",
      "validations set [0.21987927]\n",
      "\n",
      "\n",
      "loss for iteration no: 1500\n",
      "training set 0.198214\n",
      "validations set [0.21832813]\n",
      "\n",
      "\n",
      "loss for iteration no: 1600\n",
      "training set 0.229836\n",
      "validations set [0.21681136]\n",
      "\n",
      "\n",
      "loss for iteration no: 1700\n",
      "training set 0.243556\n",
      "validations set [0.21207547]\n",
      "\n",
      "\n",
      "loss for iteration no: 1800\n",
      "training set 0.15786\n",
      "validations set [0.21800105]\n",
      "\n",
      "\n",
      "------Training over----\n",
      "\n",
      "\n",
      "testing over\n"
     ]
    }
   ],
   "source": [
    "test_list,train_list,val_list,iteration=train()"
   ]
  },
  {
   "cell_type": "markdown",
   "metadata": {},
   "source": [
    "## Results"
   ]
  },
  {
   "cell_type": "markdown",
   "metadata": {},
   "source": [
    "## plotting graph for los of validation and training set"
   ]
  },
  {
   "cell_type": "code",
   "execution_count": 16,
   "metadata": {},
   "outputs": [
    {
     "data": {
      "image/png": "[encoded data removed]",
      "text/plain": [
       "<matplotlib.figure.Figure at 0x7fcdf8166650>"
      ]
     },
     "metadata": {},
     "output_type": "display_data"
    }
   ],
   "source": [
    "\n",
    "import  matplotlib.pyplot as plt\n",
    "%matplotlib inline\n",
    "plt.plot(iteration,train_list)\n",
    "plt.plot(iteration,val_list)\n",
    "plt.axis([0, 1800, 0.15, 0.28])\n",
    "plt.ylabel('loss')\n",
    "plt.xlabel('Iterations')\n",
    "plt.show()\n"
   ]
  },
  {
   "cell_type": "markdown",
   "metadata": {},
   "source": [
    "## plot for loss of validation set at each iteration"
   ]
  },
  {
   "cell_type": "code",
   "execution_count": 17,
   "metadata": {},
   "outputs": [
    {
     "data": {
      "text/plain": [
       "[0, 1800, 0.18, 0.26]"
      ]
     },
     "execution_count": 17,
     "metadata": {},
     "output_type": "execute_result"
    },
    {
     "data": {
      "image/png": "[encoded data removed]",
      "text/plain": [
       "<matplotlib.figure.Figure at 0x7fce10db1350>"
      ]
     },
     "metadata": {},
     "output_type": "display_data"
    }
   ],
   "source": [
    "plt.plot(iteration,val_list)\n",
    "plt.axis([0, 1801, 0.18, 0.26])"
   ]
  },
  {
   "cell_type": "markdown",
   "metadata": {},
   "source": [
    "## plot for loss of training set at each iteration"
   ]
  },
  {
   "cell_type": "code",
   "execution_count": 18,
   "metadata": {},
   "outputs": [
    {
     "data": {
      "text/plain": [
       "[-1, 1800, 0.18, 0.26]"
      ]
     },
     "execution_count": 18,
     "metadata": {},
     "output_type": "execute_result"
    },
    {
     "data": {
      "image/png": "[encoded data removed]",
      "text/plain": [
       "<matplotlib.figure.Figure at 0x7fcd93607050>"
      ]
     },
     "metadata": {},
     "output_type": "display_data"
    }
   ],
   "source": [
    "plt.plot(iteration,train_list)\n",
    "plt.axis([-1, 1801, 0.18, 0.26])"
   ]
  },
  {
   "cell_type": "markdown",
   "metadata": {},
   "source": [
    "## evaluating the performance by calcualting average loss on test set"
   ]
  },
  {
   "cell_type": "code",
   "execution_count": 19,
   "metadata": {},
   "outputs": [
    {
     "name": "stdout",
     "output_type": "stream",
     "text": [
      "total avg loss for test set 0.207000501584\n"
     ]
    }
   ],
   "source": [
    "s=0\n",
    "for i in range(len(test_list)):\n",
    "    s=s+test_list[i][0]\n",
    "loss_test=s/800.0\n",
    "print \"total avg loss for test set\",loss_test"
   ]
  },
  {
   "cell_type": "code",
   "execution_count": null,
   "metadata": {
    "collapsed": true
   },
   "outputs": [],
   "source": []
  },
  {
   "cell_type": "code",
   "execution_count": null,
   "metadata": {
    "collapsed": true
   },
   "outputs": [],
   "source": []
  }
 ],
 "metadata": {
  "kernelspec": {
   "display_name": "Python 2",
   "language": "python",
   "name": "python2"
  },
  "language_info": {
   "codemirror_mode": {
    "name": "ipython",
    "version": 2
   },
   "file_extension": ".py",
   "mimetype": "text/x-python",
   "name": "python",
   "nbconvert_exporter": "python",
   "pygments_lexer": "ipython2",
   "version": "2.7.12"
  }
 },
 "nbformat": 4,
 "nbformat_minor": 2
}

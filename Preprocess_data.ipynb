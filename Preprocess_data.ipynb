{
 "cells": [
  {
   "cell_type": "markdown",
   "metadata": {
    "collapsed": false,
    "deletable": true,
    "editable": true
   },
   "source": [
    "## importing packages"
   ]
  },
  {
   "cell_type": "code",
   "execution_count": null,
   "metadata": {
    "collapsed": false,
    "deletable": true,
    "editable": true
   },
   "outputs": [],
   "source": [
    "import tensorflow as tf\n",
    "import numpy as np\n",
    "from nltk.tokenize import RegexpTokenizer\n",
    "from itertools import islice\n",
    "import matplotlib.pyplot as plt\n",
    "import multiprocessing\n",
    "from gensim.models import Word2Vec"
   ]
  },
  {
   "cell_type": "markdown",
   "metadata": {},
   "source": [
    "## importing data"
   ]
  },
  {
   "cell_type": "code",
   "execution_count": null,
   "metadata": {
    "collapsed": true
   },
   "outputs": [],
   "source": [
    "# load dataset\n",
    "dataset = pd.read_csv('data.csv')"
   ]
  },
  {
   "cell_type": "code",
   "execution_count": null,
   "metadata": {
    "collapsed": false,
    "deletable": true,
    "editable": true
   },
   "outputs": [],
   "source": [
    "del dataset['id'], dataset['qid1'], dataset['qid2']"
   ]
  },
  {
   "cell_type": "markdown",
   "metadata": {},
   "source": [
    "## Preprocessing "
   ]
  },
  {
   "cell_type": "code",
   "execution_count": null,
   "metadata": {
    "collapsed": false,
    "deletable": true,
    "editable": true
   },
   "outputs": [],
   "source": [
    "tokenizer = RegexpTokenizer(r'\\w+')\n",
    "\n",
    "sentence1,sentence2=[],[]\n",
    "words=[]\n",
    "label=[]\n",
    "\n",
    "for _,x in dataset.iterrows():\n",
    "    \n",
    "        tr=map(str.lower,tokenizer.tokenize(x[0]))\n",
    "        sentence1.append(tr)\n",
    "        words.extend(tr)\n",
    "    \n",
    "        tr=map(str.lower,tokenizer.tokenize(x[1])) \n",
    "        sentence2.append(tr)\n",
    "        words.extend(tr)\n",
    "        label.append(x[2])\n",
    "        "
   ]
  },
  {
   "cell_type": "code",
   "execution_count": null,
   "metadata": {
    "collapsed": false,
    "deletable": true,
    "editable": true
   },
   "outputs": [],
   "source": [
    "sentence=sentence1+sentence2\n",
    "len(sentence)"
   ]
  },
  {
   "cell_type": "code",
   "execution_count": null,
   "metadata": {
    "collapsed": false,
    "deletable": true,
    "editable": true
   },
   "outputs": [],
   "source": [
    "len(sentence1),len(sentence2)"
   ]
  },
  {
   "cell_type": "markdown",
   "metadata": {},
   "source": [
    "## creating word embeddings "
   ]
  },
  {
   "cell_type": "code",
   "execution_count": null,
   "metadata": {
    "collapsed": false,
    "deletable": true,
    "editable": true
   },
   "outputs": [],
   "source": [
    "cores = multiprocessing.cpu_count()\n",
    "model = Word2Vec(sentence, min_count=1, size=200, sg=1, iter=2, negative=10, workers=cores)\n",
    "model.save('./word2vec.model')"
   ]
  },
  {
   "cell_type": "code",
   "execution_count": null,
   "metadata": {
    "collapsed": false,
    "deletable": true,
    "editable": true
   },
   "outputs": [],
   "source": [
    "# load trained word2vec model\n",
    "model = Word2Vec.load('./word2vec.model')\n",
    "vocab = model.wv.vocab.keys()\n",
    "vocab_size = len(vocab)\n"
   ]
  },
  {
   "cell_type": "markdown",
   "metadata": {
    "collapsed": false,
    "deletable": true,
    "editable": true
   },
   "source": [
    "## creating word to index and index to word dictionary"
   ]
  },
  {
   "cell_type": "code",
   "execution_count": null,
   "metadata": {
    "collapsed": false,
    "deletable": true,
    "editable": true
   },
   "outputs": [],
   "source": [
    "# index to word dictionary\n",
    "id_to_word = dict(enumerate(list(vocab) ))\n",
    "\n",
    "# word to index dictionary\n",
    "word_to_id = {v: k for k, v in id_to_word.items()}"
   ]
  },
  {
   "cell_type": "code",
   "execution_count": null,
   "metadata": {
    "collapsed": false,
    "deletable": true,
    "editable": true
   },
   "outputs": [],
   "source": [
    "max_length = max([len(i) for i in sentence])"
   ]
  },
  {
   "cell_type": "markdown",
   "metadata": {},
   "source": [
    "## padding to make seq of equal length"
   ]
  },
  {
   "cell_type": "code",
   "execution_count": null,
   "metadata": {
    "collapsed": false,
    "deletable": true,
    "editable": true
   },
   "outputs": [],
   "source": [
    "for i in range(len(sentence1)):\n",
    "    sentence1[i] = [word_to_id[j] for j in sentence1[i]] + [vocab_size] * (max_length - len(sentence1[i]))\n",
    "    sentence2[i] = [word_to_id[j] for j in sentence2[i]] + [vocab_size] * (max_length - len(sentence2[i]))\n"
   ]
  },
  {
   "cell_type": "code",
   "execution_count": null,
   "metadata": {
    "collapsed": false,
    "deletable": true,
    "editable": true
   },
   "outputs": [],
   "source": [
    "sentence1=np.array(sentence1)\n",
    "sentence2=np.array(sentence2)"
   ]
  },
  {
   "cell_type": "markdown",
   "metadata": {},
   "source": [
    "## word embeddings for seq mapped to their indices"
   ]
  },
  {
   "cell_type": "code",
   "execution_count": null,
   "metadata": {
    "collapsed": false,
    "deletable": true,
    "editable": true
   },
   "outputs": [],
   "source": [
    "vec_x = np.zeros([vocab_size+1, 200])\n",
    "for i, j in id_to_word.items():\n",
    "    vec_x[i] = model[j]\n",
    "\n",
    "vec_x[vocab_size]=np.ones(200)\n",
    "print vec_x[vocab_size]"
   ]
  },
  {
   "cell_type": "markdown",
   "metadata": {},
   "source": [
    "## splitting dataset into train,validation and test set randomly"
   ]
  },
  {
   "cell_type": "code",
   "execution_count": null,
   "metadata": {
    "collapsed": false,
    "deletable": true,
    "editable": true
   },
   "outputs": [],
   "source": [
    "train_sent1=sentence1[:209991]\n",
    "train_sent2=sentence2[:209991]\n",
    "label_train=label[:209991]\n",
    "label_test=label[209991:]\n",
    "test_sent1=sentence1[209991:]\n",
    "test_sent2=sentence2[209991:]\n",
    "\n"
   ]
  },
  {
   "cell_type": "code",
   "execution_count": null,
   "metadata": {
    "collapsed": false,
    "deletable": true,
    "editable": true
   },
   "outputs": [],
   "source": [
    "val_sent1=test_sent1[89895:]\n",
    "val_sent2=test_sent2[89895:]\n",
    "test_sent1=test_sent1[:89895]\n",
    "test_sent2=test_sent2[:89895]\n",
    "label_val=label_test[89895:]\n",
    "label_test=label_test[:89895]"
   ]
  },
  {
   "cell_type": "markdown",
   "metadata": {},
   "source": [
    "## saving the preprocessed data"
   ]
  },
  {
   "cell_type": "code",
   "execution_count": null,
   "metadata": {
    "collapsed": false,
    "deletable": true,
    "editable": true
   },
   "outputs": [],
   "source": [
    "np.savez('/preprocessed_data/train.npz', ques1=train_sent1, ques2=train_sent2, label=label_train)\n",
    "np.savez('/preprocessed_data/valid.npz', ques1=val_sent1, ques2=val_sent2, label=label_val)\n",
    "np.savez('/preprocessed_data/test.npz', ques1=test_sent1, ques2=test_sent2, label=label_test)\n",
    "np.savez(''/preprocessed_data/embed.npz',embed=vec_x)"
   ]
  }
 ],
 "metadata": {
  "kernelspec": {
   "display_name": "Python 2",
   "language": "python",
   "name": "python2"
  },
  "language_info": {
   "codemirror_mode": {
    "name": "ipython",
    "version": 2
   },
   "file_extension": ".py",
   "mimetype": "text/x-python",
   "name": "python",
   "nbconvert_exporter": "python",
   "pygments_lexer": "ipython2",
   "version": "2.7.9"
  }
 },
 "nbformat": 4,
 "nbformat_minor": 2
}
